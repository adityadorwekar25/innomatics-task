{
 "cells": [
  {
   "cell_type": "markdown",
   "id": "e4a4a17a",
   "metadata": {},
   "source": [
    "# Aditya Dowekar\n",
    "# task 1"
   ]
  },
  {
   "cell_type": "code",
   "execution_count": 8,
   "id": "217f9862",
   "metadata": {},
   "outputs": [
    {
     "name": "stdout",
     "output_type": "stream",
     "text": [
      "repeated element:  1\n",
      "Missing Element:  4\n"
     ]
    }
   ],
   "source": [
    "#repeated element of the list\n",
    "list=[1,2,3,5,6,7,8,9,1,10]\n",
    "a=len(list)\n",
    "for i in range (a):\n",
    "    for j in range(i+1,a):\n",
    "        if list[i]==list[j]:\n",
    "            print(\"repeated element: \",list[i])\n",
    "            rep=i\n",
    "#missing element of the list\n",
    "for i in range(1,a+1):\n",
    "    if i not in list:\n",
    "        list[rep]=i\n",
    "        print(\"Missing Element: \",i)"
   ]
  },
  {
   "cell_type": "code",
   "execution_count": null,
   "id": "356f6ba3",
   "metadata": {},
   "outputs": [],
   "source": []
  }
 ],
 "metadata": {
  "kernelspec": {
   "display_name": "Python 3",
   "language": "python",
   "name": "python3"
  },
  "language_info": {
   "codemirror_mode": {
    "name": "ipython",
    "version": 3
   },
   "file_extension": ".py",
   "mimetype": "text/x-python",
   "name": "python",
   "nbconvert_exporter": "python",
   "pygments_lexer": "ipython3",
   "version": "3.8.8"
  }
 },
 "nbformat": 4,
 "nbformat_minor": 5
}
